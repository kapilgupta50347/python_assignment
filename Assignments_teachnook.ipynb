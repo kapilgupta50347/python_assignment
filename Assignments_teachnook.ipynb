{
  "nbformat": 4,
  "nbformat_minor": 0,
  "metadata": {
    "colab": {
      "provenance": []
    },
    "kernelspec": {
      "name": "python3",
      "display_name": "Python 3"
    },
    "language_info": {
      "name": "python"
    }
  },
  "cells": [
    {
      "cell_type": "markdown",
      "source": [
        "**KAPIL GUPTA MARCH BATCH 2023**"
      ],
      "metadata": {
        "id": "h5dfAut33mgH"
      }
    },
    {
      "cell_type": "markdown",
      "source": [
        "**Assignment 01**"
      ],
      "metadata": {
        "id": "g20XelDM2SDJ"
      }
    },
    {
      "cell_type": "code",
      "source": [
        "# list\n",
        "\n",
        "mylist=['data','kapil',2023,True,2023.03]\n",
        "mylist1=['information','gupta',2003,False,2023.06]\n",
        "print(mylist)\n",
        "print(mylist1)\n",
        "\n",
        "# tuple\n",
        "\n",
        "mytuple=('science','commerce',2022,True,556.556)\n",
        "mytuple1=('analytics','maths',2202,False,565.565)\n",
        "print(mytuple)\n",
        "print(mytuple1)\n",
        "\n",
        "# dictionary\n",
        "\n",
        "mydic={'username':'kapil','password':'gupta','batch':2023}\n",
        "mydic1={'ID':'kapil gupta','address':'ghaziabad','batch':2023}\n",
        "print(mydic)\n",
        "print(mydic1)\n",
        "\n",
        "# set\n",
        "\n",
        "myset={'unordered','collection',89,True}\n",
        "myset1={'list','groceries',20,False,543.99}\n",
        "print(myset)\n",
        "print(myset1)"
      ],
      "metadata": {
        "colab": {
          "base_uri": "https://localhost:8080/"
        },
        "id": "WWBcmdst2WKi",
        "outputId": "3e34c2ef-9502-4cdb-a9ce-700f943be95d"
      },
      "execution_count": null,
      "outputs": [
        {
          "output_type": "stream",
          "name": "stdout",
          "text": [
            "['data', 'kapil', 2023, True, 2023.03]\n",
            "['information', 'gupta', 2003, False, 2023.06]\n",
            "('science', 'commerce', 2022, True, 556.556)\n",
            "('analytics', 'maths', 2202, False, 565.565)\n",
            "{'username': 'kapil', 'password': 'gupta', 'batch': 2023}\n",
            "{'ID': 'kapil gupta', 'address': 'ghaziabad', 'batch': 2023}\n",
            "{89, 'collection', 'unordered', True}\n",
            "{False, 20, 'list', 'groceries', 543.99}\n"
          ]
        }
      ]
    },
    {
      "cell_type": "markdown",
      "source": [
        "**Assignment 2**"
      ],
      "metadata": {
        "id": "ECz2xOfa5bmu"
      }
    },
    {
      "cell_type": "code",
      "source": [
        "# use of r+\n",
        "\n",
        "file=open('assignment.txt','r+')\n",
        "data=file.read()\n",
        "file.write(' only data science')\n",
        "print(data)"
      ],
      "metadata": {
        "colab": {
          "base_uri": "https://localhost:8080/"
        },
        "id": "l6nK38NE5og9",
        "outputId": "f8c4102f-cd00-487f-d1a7-f2b7f587a80a"
      },
      "execution_count": null,
      "outputs": [
        {
          "output_type": "stream",
          "name": "stdout",
          "text": [
            " kapil_gupta\n"
          ]
        }
      ]
    },
    {
      "cell_type": "code",
      "source": [
        "# use of w+\n",
        "\n",
        "file=open('assignment.txt','w+')\n",
        "file.write('\\n nothing else')\n",
        "data=file.read()\n",
        "print(data)"
      ],
      "metadata": {
        "colab": {
          "base_uri": "https://localhost:8080/"
        },
        "id": "cYbP2IAg-wgc",
        "outputId": "6b9c25ea-fa1b-450a-b72d-058a908fb6ae"
      },
      "execution_count": null,
      "outputs": [
        {
          "output_type": "stream",
          "name": "stdout",
          "text": [
            "\n"
          ]
        }
      ]
    },
    {
      "cell_type": "code",
      "source": [
        "# use of a+\n",
        "\n",
        "file=open('assignment.txt','a+')\n",
        "file.write('\\n assignment given by aishwarya mam')\n",
        "data=file.read()\n",
        "print()"
      ],
      "metadata": {
        "colab": {
          "base_uri": "https://localhost:8080/"
        },
        "id": "LlgmPyNb-0hc",
        "outputId": "4f370e4b-68fc-4d0c-d583-a145eee6378b"
      },
      "execution_count": null,
      "outputs": [
        {
          "output_type": "stream",
          "name": "stdout",
          "text": [
            "\n"
          ]
        }
      ]
    }
  ]
}