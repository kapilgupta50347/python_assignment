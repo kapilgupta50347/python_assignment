{
  "nbformat": 4,
  "nbformat_minor": 0,
  "metadata": {
    "colab": {
      "provenance": []
    },
    "kernelspec": {
      "name": "python3",
      "display_name": "Python 3"
    },
    "language_info": {
      "name": "python"
    }
  },
  "cells": [
    {
      "cell_type": "code",
      "execution_count": 2,
      "metadata": {
        "colab": {
          "base_uri": "https://localhost:8080/",
          "height": 0
        },
        "id": "mZbTuU39Wgj7",
        "outputId": "f66c0a9e-a4e7-4814-e8e6-82ecf7df7dea"
      },
      "outputs": [
        {
          "output_type": "stream",
          "name": "stdout",
          "text": [
            "Root Mean Squared Error (RMSE): 9185.571360383461\n",
            "R-squared: 0.09200104293622746\n"
          ]
        },
        {
          "output_type": "stream",
          "name": "stderr",
          "text": [
            "/usr/local/lib/python3.10/dist-packages/sklearn/metrics/_regression.py:492: FutureWarning: 'squared' is deprecated in version 1.4 and will be removed in 1.6. To calculate the root mean squared error, use the function'root_mean_squared_error'.\n",
            "  warnings.warn(\n"
          ]
        }
      ],
      "source": [
        "import pandas as pd\n",
        "from sklearn.model_selection import train_test_split\n",
        "from sklearn.linear_model import LinearRegression\n",
        "from sklearn.preprocessing import OneHotEncoder\n",
        "from sklearn.metrics import mean_squared_error, r2_score\n",
        "\n",
        "# Load the dataset\n",
        "data_path = 'RJsKXWqDBZc3m0GG.csv'\n",
        "data = pd.read_csv(data_path)\n",
        "\n",
        "# One-hot encoding the categorical variables\n",
        "encoder = OneHotEncoder(drop='first', sparse_output=False)  # Updated parameter\n",
        "categorical_columns = ['Eduacation', 'Race', 'Hisp', 'MaritalStatus']\n",
        "encoded_data = encoder.fit_transform(data[categorical_columns])\n",
        "\n",
        "# Create a DataFrame with the encoded data\n",
        "encoded_df = pd.DataFrame(encoded_data, columns=encoder.get_feature_names_out(categorical_columns))\n",
        "\n",
        "# Concatenate the encoded df with the original df and drop original categorical columns\n",
        "data_preprocessed = pd.concat([data.drop(categorical_columns + ['Earnings_1974', 'Earnings_1975'], axis=1), encoded_df], axis=1)\n",
        "\n",
        "# Prepare features and target variable\n",
        "X = data_preprocessed.drop(['Earnings_1978'], axis=1)\n",
        "y = data_preprocessed['Earnings_1978']\n",
        "\n",
        "# Split the data into training and test sets\n",
        "X_train, X_test, y_train, y_test = train_test_split(X, y, test_size=0.2, random_state=42)\n",
        "\n",
        "# Initialize and train the linear regression model\n",
        "model = LinearRegression()\n",
        "model.fit(X_train, y_train)\n",
        "\n",
        "# Predict the earnings on the test set\n",
        "y_pred = model.predict(X_test)\n",
        "\n",
        "# Calculate RMSE and R-squared metrics\n",
        "rmse = mean_squared_error(y_test, y_pred, squared=False)\n",
        "r2 = r2_score(y_test, y_pred)\n",
        "\n",
        "print(f\"Root Mean Squared Error (RMSE): {rmse}\")\n",
        "print(f\"R-squared: {r2}\")\n"
      ]
    }
  ]
}