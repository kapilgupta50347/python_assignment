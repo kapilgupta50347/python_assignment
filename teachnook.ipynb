{
  "nbformat": 4,
  "nbformat_minor": 0,
  "metadata": {
    "colab": {
      "provenance": []
    },
    "kernelspec": {
      "name": "python3",
      "display_name": "Python 3"
    },
    "language_info": {
      "name": "python"
    }
  },
  "cells": [
    {
      "cell_type": "markdown",
      "source": [
        "**class 1**"
      ],
      "metadata": {
        "id": "wdk0HLY7vq5D"
      }
    },
    {
      "cell_type": "code",
      "source": [
        "num=10\n",
        "print(num)"
      ],
      "metadata": {
        "colab": {
          "base_uri": "https://localhost:8080/"
        },
        "id": "RChSB8L2v4z6",
        "outputId": "d71ebbf6-9820-4510-d3f6-f43fee0391ad"
      },
      "execution_count": null,
      "outputs": [
        {
          "output_type": "stream",
          "name": "stdout",
          "text": [
            "10\n"
          ]
        }
      ]
    },
    {
      "cell_type": "code",
      "source": [
        "# num is number"
      ],
      "metadata": {
        "id": "DY1sj2RxwApB"
      },
      "execution_count": null,
      "outputs": []
    },
    {
      "cell_type": "code",
      "source": [
        "#num1=10\n",
        "print(num1)"
      ],
      "metadata": {
        "colab": {
          "base_uri": "https://localhost:8080/",
          "height": 182
        },
        "id": "KLM8EnafwnTN",
        "outputId": "e0f1211c-63b3-468b-969b-f23430eb4fcb"
      },
      "execution_count": null,
      "outputs": [
        {
          "output_type": "error",
          "ename": "NameError",
          "evalue": "ignored",
          "traceback": [
            "\u001b[0;31m---------------------------------------------------------------------------\u001b[0m",
            "\u001b[0;31mNameError\u001b[0m                                 Traceback (most recent call last)",
            "\u001b[0;32m<ipython-input-8-e9ae146ed0f2>\u001b[0m in \u001b[0;36m<module>\u001b[0;34m\u001b[0m\n\u001b[1;32m      1\u001b[0m \u001b[0;31m#num1=10\u001b[0m\u001b[0;34m\u001b[0m\u001b[0;34m\u001b[0m\u001b[0;34m\u001b[0m\u001b[0m\n\u001b[0;32m----> 2\u001b[0;31m \u001b[0mprint\u001b[0m\u001b[0;34m(\u001b[0m\u001b[0mnum1\u001b[0m\u001b[0;34m)\u001b[0m\u001b[0;34m\u001b[0m\u001b[0;34m\u001b[0m\u001b[0m\n\u001b[0m",
            "\u001b[0;31mNameError\u001b[0m: name 'num1' is not defined"
          ]
        }
      ]
    },
    {
      "cell_type": "code",
      "source": [
        "# float\n",
        "num=299.33\n",
        "print(num)\n",
        "print(type(num))\n",
        "\n",
        "# string\n",
        "\n",
        "name='introduction to data science'\n",
        "print(name)\n",
        "print(type(name))\n",
        "\n",
        "# boolean\n",
        "print(3>7)\n"
      ],
      "metadata": {
        "colab": {
          "base_uri": "https://localhost:8080/"
        },
        "id": "u8Se5nwEwtNf",
        "outputId": "079b3aad-7447-40e8-806c-25f1bcbee5c5"
      },
      "execution_count": null,
      "outputs": [
        {
          "output_type": "stream",
          "name": "stdout",
          "text": [
            "299.33\n",
            "<class 'float'>\n",
            "introduction to data science\n",
            "<class 'str'>\n",
            "False\n"
          ]
        }
      ]
    },
    {
      "cell_type": "code",
      "source": [
        "# concatenation\n",
        "num1='100'\n",
        "num2='200.89'\n",
        "print('the addition of two values are',(num1,num2))\n",
        "print('the addition of two values are',(num1+num2))\n",
        "print('the addition of two values are'+(num1+num2))\n",
        "print('the addition of two values are'+(num1,num2))\n",
        "\n"
      ],
      "metadata": {
        "colab": {
          "base_uri": "https://localhost:8080/",
          "height": 269
        },
        "id": "mh2gCUmv4QeI",
        "outputId": "dd2252bb-5534-44f7-c200-90633229ce91"
      },
      "execution_count": null,
      "outputs": [
        {
          "output_type": "stream",
          "name": "stdout",
          "text": [
            "the addition of two values are ('100', '200.89')\n",
            "the addition of two values are 100200.89\n",
            "the addition of two values are100200.89\n"
          ]
        },
        {
          "output_type": "error",
          "ename": "TypeError",
          "evalue": "ignored",
          "traceback": [
            "\u001b[0;31m---------------------------------------------------------------------------\u001b[0m",
            "\u001b[0;31mTypeError\u001b[0m                                 Traceback (most recent call last)",
            "\u001b[0;32m<ipython-input-16-81a7fcf7c504>\u001b[0m in \u001b[0;36m<module>\u001b[0;34m\u001b[0m\n\u001b[1;32m      5\u001b[0m \u001b[0mprint\u001b[0m\u001b[0;34m(\u001b[0m\u001b[0;34m'the addition of two values are'\u001b[0m\u001b[0;34m,\u001b[0m\u001b[0;34m(\u001b[0m\u001b[0mnum1\u001b[0m\u001b[0;34m+\u001b[0m\u001b[0mnum2\u001b[0m\u001b[0;34m)\u001b[0m\u001b[0;34m)\u001b[0m\u001b[0;34m\u001b[0m\u001b[0;34m\u001b[0m\u001b[0m\n\u001b[1;32m      6\u001b[0m \u001b[0mprint\u001b[0m\u001b[0;34m(\u001b[0m\u001b[0;34m'the addition of two values are'\u001b[0m\u001b[0;34m+\u001b[0m\u001b[0;34m(\u001b[0m\u001b[0mnum1\u001b[0m\u001b[0;34m+\u001b[0m\u001b[0mnum2\u001b[0m\u001b[0;34m)\u001b[0m\u001b[0;34m)\u001b[0m\u001b[0;34m\u001b[0m\u001b[0;34m\u001b[0m\u001b[0m\n\u001b[0;32m----> 7\u001b[0;31m \u001b[0mprint\u001b[0m\u001b[0;34m(\u001b[0m\u001b[0;34m'the addition of two values are'\u001b[0m\u001b[0;34m+\u001b[0m\u001b[0;34m(\u001b[0m\u001b[0mnum1\u001b[0m\u001b[0;34m,\u001b[0m\u001b[0mnum2\u001b[0m\u001b[0;34m)\u001b[0m\u001b[0;34m)\u001b[0m\u001b[0;34m\u001b[0m\u001b[0;34m\u001b[0m\u001b[0m\n\u001b[0m\u001b[1;32m      8\u001b[0m \u001b[0;34m\u001b[0m\u001b[0m\n",
            "\u001b[0;31mTypeError\u001b[0m: can only concatenate str (not \"tuple\") to str"
          ]
        }
      ]
    },
    {
      "cell_type": "code",
      "source": [
        "name1='hello'\n",
        "name2='world'\n",
        "print(name1+name2)\n",
        "print(name1, name2)\n",
        "print('my first thing is'+name1)\n",
        "print('my first thing is',name1)"
      ],
      "metadata": {
        "colab": {
          "base_uri": "https://localhost:8080/"
        },
        "id": "Oe7FBsDI5XF7",
        "outputId": "04c4c4fe-d23a-4218-ab94-fb20a8003e69"
      },
      "execution_count": null,
      "outputs": [
        {
          "output_type": "stream",
          "name": "stdout",
          "text": [
            "helloworld\n",
            "hello world\n",
            "my first thing ishello\n",
            "my first thing is hello\n"
          ]
        }
      ]
    },
    {
      "cell_type": "code",
      "source": [
        "x=input(\"Enter the value \")\n",
        "y=input(\"enter the second value \")\n",
        "z=int(input(\"Enter the third value \"))\n",
        "u=int(input(\"enter the fourth value \"))\n",
        "print('x and y are default strings',(x+y))\n",
        "print('the difference between z and u is',(z-u))"
      ],
      "metadata": {
        "colab": {
          "base_uri": "https://localhost:8080/"
        },
        "id": "73-Wtmua5181",
        "outputId": "f6ece9c7-f054-4889-aba8-c81a6edafffb"
      },
      "execution_count": null,
      "outputs": [
        {
          "output_type": "stream",
          "name": "stdout",
          "text": [
            "Enter the value 89\n",
            "enter the second value 99\n",
            "Enter the third value 67\n",
            "enter the fourth value 98\n",
            "x and y are default strings 8999\n",
            "the difference between z and u is -31\n"
          ]
        }
      ]
    },
    {
      "cell_type": "code",
      "source": [
        "x=int(input('enter the number : '))\n",
        "y=int(input('enter the number : '))\n",
        "sum=x+y\n",
        "difference=x-y\n",
        "print('the sum and difference are ',sum,'and',difference,'respectively.')"
      ],
      "metadata": {
        "colab": {
          "base_uri": "https://localhost:8080/"
        },
        "id": "nnFYS92a8IoZ",
        "outputId": "17c082df-bddb-48c6-f1d8-86498793e60c"
      },
      "execution_count": null,
      "outputs": [
        {
          "output_type": "stream",
          "name": "stdout",
          "text": [
            "enter the number : 90\n",
            "enter the number : 88\n",
            "the sum and difference are  178 and 2 respectively.\n"
          ]
        }
      ]
    },
    {
      "cell_type": "code",
      "source": [
        "#coolective datatypes in python ->list,tupke,set,dictionary\n",
        "#list ->collection of ordered datatypes\n",
        "mylist=[\"data\",\"task\",\"A\",89,True,245.76]\n",
        "print(mylist)\n",
        "print(type(mylist))\n",
        "print(mylist[4])\n",
        "print(mylist[-4])\n",
        "\n",
        "# changeable -> mutable\n",
        "# update\n",
        "mylist=[\"data\",\"task\",\"A\",89,True,245.76]\n",
        "mylist[4]=False\n",
        "mylist[2]='fast'\n",
        "print('updated my list',mylist)\n",
        "\n",
        "# append(add)\n",
        "mylist.append(\"details\")\n",
        "print('after adding',mylist)\n",
        "\n",
        "# insert\n",
        "mylist.insert(3,\"insert\")\n",
        "print('after inserting',mylist)\n",
        "\n",
        "list1=[1,23,3445]\n",
        "mylist.append(list1)\n",
        "print(mylist)\n",
        "\n",
        "# extend\n",
        "mylist.extend(list1)\n",
        "list1.extend(mylist)\n",
        "print('after extending',mylist)\n",
        "print(list1)\n",
        "\n",
        "# remove\n",
        "mylist.remove('details')\n",
        "print('after removing',mylist)\n",
        "\n",
        "# delete\n",
        "del mylist[7]\n",
        "print('after deleting',mylist)\n",
        "\n",
        "del mylist\n",
        "print(mylist)"
      ],
      "metadata": {
        "colab": {
          "base_uri": "https://localhost:8080/",
          "height": 428
        },
        "id": "bXfcLXDZWGkC",
        "outputId": "930fdc3d-9af4-4a00-d3a3-c30805456365"
      },
      "execution_count": null,
      "outputs": [
        {
          "output_type": "stream",
          "name": "stdout",
          "text": [
            "['data', 'task', 'A', 89, True, 245.76]\n",
            "<class 'list'>\n",
            "True\n",
            "A\n",
            "updated my list ['data', 'task', 'fast', 89, False, 245.76]\n",
            "after adding ['data', 'task', 'fast', 89, False, 245.76, 'details']\n",
            "after inserting ['data', 'task', 'fast', 'insert', 89, False, 245.76, 'details']\n",
            "['data', 'task', 'fast', 'insert', 89, False, 245.76, 'details', [1, 23, 3445]]\n",
            "after extending ['data', 'task', 'fast', 'insert', 89, False, 245.76, 'details', [1, 23, 3445, 'data', 'task', 'fast', 'insert', 89, False, 245.76, 'details', [...], 1, 23, 3445], 1, 23, 3445]\n",
            "[1, 23, 3445, 'data', 'task', 'fast', 'insert', 89, False, 245.76, 'details', [...], 1, 23, 3445]\n",
            "after removing ['data', 'task', 'fast', 'insert', 89, False, 245.76, [1, 23, 3445, 'data', 'task', 'fast', 'insert', 89, False, 245.76, 'details', [...], 1, 23, 3445], 1, 23, 3445]\n",
            "after deleting ['data', 'task', 'fast', 'insert', 89, False, 245.76, 1, 23, 3445]\n"
          ]
        },
        {
          "output_type": "error",
          "ename": "NameError",
          "evalue": "ignored",
          "traceback": [
            "\u001b[0;31m---------------------------------------------------------------------------\u001b[0m",
            "\u001b[0;31mNameError\u001b[0m                                 Traceback (most recent call last)",
            "\u001b[0;32m<ipython-input-35-d85108ca2ac2>\u001b[0m in \u001b[0;36m<module>\u001b[0;34m\u001b[0m\n\u001b[1;32m     41\u001b[0m \u001b[0;34m\u001b[0m\u001b[0m\n\u001b[1;32m     42\u001b[0m \u001b[0;32mdel\u001b[0m \u001b[0mmylist\u001b[0m\u001b[0;34m\u001b[0m\u001b[0;34m\u001b[0m\u001b[0m\n\u001b[0;32m---> 43\u001b[0;31m \u001b[0mprint\u001b[0m\u001b[0;34m(\u001b[0m\u001b[0mmylist\u001b[0m\u001b[0;34m)\u001b[0m\u001b[0;34m\u001b[0m\u001b[0;34m\u001b[0m\u001b[0m\n\u001b[0m",
            "\u001b[0;31mNameError\u001b[0m: name 'mylist' is not defined"
          ]
        }
      ]
    },
    {
      "cell_type": "code",
      "source": [
        "# tuple -> ordered collection of datatypes,immutable,()\n",
        "mytuple=(\"dell\",\"HP\",56,False,5.77)\n",
        "print(mytuple)\n",
        "print(len(mytuple))\n",
        "mytuple.append(7)\n",
        "mytuple.insert(1,3)\n",
        "print(mytuple)\n"
      ],
      "metadata": {
        "id": "yY2-Mf8cksww",
        "colab": {
          "base_uri": "https://localhost:8080/",
          "height": 269
        },
        "outputId": "74462e38-8038-42ec-9019-b79bfa9d0682"
      },
      "execution_count": null,
      "outputs": [
        {
          "output_type": "stream",
          "name": "stdout",
          "text": [
            "('dell', 'HP', 56, False, 5.77)\n",
            "5\n"
          ]
        },
        {
          "output_type": "error",
          "ename": "AttributeError",
          "evalue": "ignored",
          "traceback": [
            "\u001b[0;31m---------------------------------------------------------------------------\u001b[0m",
            "\u001b[0;31mAttributeError\u001b[0m                            Traceback (most recent call last)",
            "\u001b[0;32m<ipython-input-37-49cf739ad6ee>\u001b[0m in \u001b[0;36m<module>\u001b[0;34m\u001b[0m\n\u001b[1;32m      3\u001b[0m \u001b[0mprint\u001b[0m\u001b[0;34m(\u001b[0m\u001b[0mmytuple\u001b[0m\u001b[0;34m)\u001b[0m\u001b[0;34m\u001b[0m\u001b[0;34m\u001b[0m\u001b[0m\n\u001b[1;32m      4\u001b[0m \u001b[0mprint\u001b[0m\u001b[0;34m(\u001b[0m\u001b[0mlen\u001b[0m\u001b[0;34m(\u001b[0m\u001b[0mmytuple\u001b[0m\u001b[0;34m)\u001b[0m\u001b[0;34m)\u001b[0m\u001b[0;34m\u001b[0m\u001b[0;34m\u001b[0m\u001b[0m\n\u001b[0;32m----> 5\u001b[0;31m \u001b[0mmytuple\u001b[0m\u001b[0;34m.\u001b[0m\u001b[0mappend\u001b[0m\u001b[0;34m(\u001b[0m\u001b[0;36m7\u001b[0m\u001b[0;34m)\u001b[0m\u001b[0;34m\u001b[0m\u001b[0;34m\u001b[0m\u001b[0m\n\u001b[0m\u001b[1;32m      6\u001b[0m \u001b[0mmytuple\u001b[0m\u001b[0;34m.\u001b[0m\u001b[0minsert\u001b[0m\u001b[0;34m(\u001b[0m\u001b[0;36m1\u001b[0m\u001b[0;34m,\u001b[0m\u001b[0;36m3\u001b[0m\u001b[0;34m)\u001b[0m\u001b[0;34m\u001b[0m\u001b[0;34m\u001b[0m\u001b[0m\n\u001b[1;32m      7\u001b[0m \u001b[0mprint\u001b[0m\u001b[0;34m(\u001b[0m\u001b[0mmytuple\u001b[0m\u001b[0;34m)\u001b[0m\u001b[0;34m\u001b[0m\u001b[0;34m\u001b[0m\u001b[0m\n",
            "\u001b[0;31mAttributeError\u001b[0m: 'tuple' object has no attribute 'append'"
          ]
        }
      ]
    },
    {
      "cell_type": "markdown",
      "source": [
        "**class 3**"
      ],
      "metadata": {
        "id": "1Zm_YCSRICZs"
      }
    },
    {
      "cell_type": "code",
      "source": [
        "# dictionary -> {},key and values,mutable\n",
        "mydic={\n",
        "    'username':'admin',\n",
        "    'password':'pass',\n",
        "    'batch':2023\n",
        "}\n",
        "print(mydic)\n",
        "print(mydic['username'])\n",
        "# print(mydic['pass']) => error \n",
        "\n",
        "# updating\n",
        "mydic['username']=('kapil','gupta')\n",
        "print('after updating',mydic)\n",
        "\n",
        "# append -> doesn't work\n",
        "\n",
        "# extend -> doesn't work(no attribute like extend)\n",
        "\n",
        "mydic[\"course\"]='python'\n",
        "print('extending by using updating',mydic)\n",
        "\n",
        "list1=[1,23,34]\n",
        "mydic['password']=list1\n",
        "print(\"the values are\",mydic)\n",
        "\n",
        "# updating the key\n",
        "new=mydic['course']\n",
        "del mydic['course']\n",
        "mydic['learning']=new\n",
        "print(mydic)\n",
        "\n",
        "# deleting\n",
        "# pop deletes individual elements while delete can delete entire variable and even individual elements\n",
        "mydic.pop('username')\n",
        "print(\"the values are\",mydic)\n",
        "\n",
        "del mydic\n",
        "print(mydic)"
      ],
      "metadata": {
        "colab": {
          "base_uri": "https://localhost:8080/",
          "height": 321
        },
        "id": "vwr0WSGkIK5s",
        "outputId": "0d388868-605f-4508-c9bd-aea3c04a3df2"
      },
      "execution_count": null,
      "outputs": [
        {
          "output_type": "stream",
          "name": "stdout",
          "text": [
            "{'username': 'admin', 'password': 'pass', 'batch': 2023}\n",
            "admin\n",
            "after updating {'username': ('kapil', 'gupta'), 'password': 'pass', 'batch': 2023}\n",
            "extending by using updating {'username': ('kapil', 'gupta'), 'password': 'pass', 'batch': 2023, 'course': 'python'}\n",
            "the values are {'username': ('kapil', 'gupta'), 'password': [1, 23, 34], 'batch': 2023, 'course': 'python'}\n",
            "{'username': ('kapil', 'gupta'), 'password': [1, 23, 34], 'batch': 2023, 'learning': 'python'}\n",
            "the values are {'password': [1, 23, 34], 'batch': 2023, 'learning': 'python'}\n"
          ]
        },
        {
          "output_type": "error",
          "ename": "NameError",
          "evalue": "ignored",
          "traceback": [
            "\u001b[0;31m---------------------------------------------------------------------------\u001b[0m",
            "\u001b[0;31mNameError\u001b[0m                                 Traceback (most recent call last)",
            "\u001b[0;32m<ipython-input-12-a760e93b1f46>\u001b[0m in \u001b[0;36m<module>\u001b[0;34m\u001b[0m\n\u001b[1;32m     35\u001b[0m \u001b[0;34m\u001b[0m\u001b[0m\n\u001b[1;32m     36\u001b[0m \u001b[0;32mdel\u001b[0m \u001b[0mmydic\u001b[0m\u001b[0;34m\u001b[0m\u001b[0;34m\u001b[0m\u001b[0m\n\u001b[0;32m---> 37\u001b[0;31m \u001b[0mprint\u001b[0m\u001b[0;34m(\u001b[0m\u001b[0mmydic\u001b[0m\u001b[0;34m)\u001b[0m\u001b[0;34m\u001b[0m\u001b[0;34m\u001b[0m\u001b[0m\n\u001b[0m",
            "\u001b[0;31mNameError\u001b[0m: name 'mydic' is not defined"
          ]
        }
      ]
    },
    {
      "cell_type": "code",
      "source": [
        "# set -> unordered coolection of data types,{},does not contain duplicate value\n",
        "myset={'data','task',12,434.33,False,12}\n",
        "print(myset)\n",
        "# print(myset{2}) -> can't print individual data\n",
        "\n",
        "# add -> can add only one argument\n",
        "myset.add('error')\n",
        "print(myset)\n",
        "\n",
        "# combining two sets -> for adding multiple arguments(use .union or |)\n",
        "set1={1,23,4,5,76,4}\n",
        "set2={2,4,56,7}\n",
        "set3=set1.union(set2)\n",
        "print(set3)\n",
        "set4=myset|set2\n",
        "print(set4)\n",
        "\n",
        "# intersection -> common elements\n",
        "set3=set1.intersection(myset)\n",
        "set4=set1.intersection(set2)\n",
        "print(set3)\n",
        "print(set4)\n",
        "\n",
        "set2.clear()\n",
        "print(set2)\n",
        "\n",
        "set4=set1.difference(set3)\n",
        "print(set4)\n",
        "\n"
      ],
      "metadata": {
        "colab": {
          "base_uri": "https://localhost:8080/"
        },
        "id": "3K1kpELaS9oL",
        "outputId": "1bd9da2e-c14e-4f3f-9233-ba2080911d04"
      },
      "execution_count": null,
      "outputs": [
        {
          "output_type": "stream",
          "name": "stdout",
          "text": [
            "{False, 'data', 434.33, 'task', 12}\n",
            "{False, 'data', 434.33, 'error', 'task', 12}\n",
            "{1, 2, 4, 5, 7, 76, 23, 56}\n",
            "{False, 'error', 2, 4, 7, 12, 'data', 434.33, 'task', 56}\n",
            "set()\n",
            "{4}\n",
            "set()\n",
            "{1, 4, 5, 23, 76}\n"
          ]
        }
      ]
    },
    {
      "cell_type": "code",
      "source": [
        "dic={'we':12,'we':13}\n",
        "print(dic)\n",
        "dic={'we1':12,'wee':12}\n",
        "print(dic)\n",
        "dic={'we':12,'we':12}\n",
        "print(dic)"
      ],
      "metadata": {
        "colab": {
          "base_uri": "https://localhost:8080/"
        },
        "id": "ZEYB1EI-urkG",
        "outputId": "b0fd92f4-ae20-4f4a-84c6-d8dfc55d375f"
      },
      "execution_count": null,
      "outputs": [
        {
          "output_type": "stream",
          "name": "stdout",
          "text": [
            "{'we': 13}\n",
            "{'we1': 12, 'wee': 12}\n",
            "{'we': 12}\n"
          ]
        }
      ]
    },
    {
      "cell_type": "code",
      "source": [
        "# assignment 1\n",
        "# create two different examples of each of the collective datatype"
      ],
      "metadata": {
        "id": "hlwfxZRn4DuC"
      },
      "execution_count": null,
      "outputs": []
    },
    {
      "cell_type": "markdown",
      "source": [
        "**class 4**"
      ],
      "metadata": {
        "id": "b-VFXU0d5_Fl"
      }
    },
    {
      "cell_type": "code",
      "source": [
        "print('hello everyone \\nwelcome welcome')\n",
        "\n",
        "# functions -> a set of data that will be executed whenever you call it\n",
        "\n",
        "def _func_():\n",
        "  print('hello everyone \\nwelcome welcome')\n",
        "  # _func_() -> calling the function inside will not print\n",
        "_func_()\n",
        "_func_()\n",
        "_func_()\n",
        "\n",
        "def add(num1,num2):\n",
        " print('\\naddition',num1+num2)\n",
        "add(3,5)\n",
        "add(-2,55.88)\n",
        "\n",
        "def a(name):\n",
        "  print('my favorite cartoon is',name)\n",
        "a('tom & jerry')"
      ],
      "metadata": {
        "id": "D5EG3i-05iXS",
        "colab": {
          "base_uri": "https://localhost:8080/"
        },
        "outputId": "44a103b0-d51b-43be-f8b9-59c742d7a6d0"
      },
      "execution_count": null,
      "outputs": [
        {
          "output_type": "stream",
          "name": "stdout",
          "text": [
            "hello everyone \n",
            "welcome welcome\n",
            "hello everyone \n",
            "welcome welcome\n",
            "hello everyone \n",
            "welcome welcome\n",
            "hello everyone \n",
            "welcome welcome\n",
            "\n",
            "addition 8\n",
            "\n",
            "addition 53.88\n",
            "my favorite cartoon is tom & jerry\n"
          ]
        }
      ]
    },
    {
      "cell_type": "code",
      "source": [
        "# for loop\n",
        "a=5\n",
        "for x in range(0,a+1):\n",
        "  print(x)\n",
        "\n",
        "for y in range(10):\n",
        "  print('the value is',y)\n",
        "\n",
        "mylist=['data','A','task',344,True,23.44]\n",
        "print(mylist)\n",
        "for a in mylist:\n",
        "  print(a)\n",
        "\n",
        "def _func_():\n",
        "  print('hello everyone \\nwelcome welcome')\n",
        "for a in range(3):\n",
        "  _func_()"
      ],
      "metadata": {
        "colab": {
          "base_uri": "https://localhost:8080/"
        },
        "id": "8XfyhmIbWz77",
        "outputId": "d9cb0227-195e-435d-a95d-8b49b8add8bf"
      },
      "execution_count": null,
      "outputs": [
        {
          "output_type": "stream",
          "name": "stdout",
          "text": [
            "0\n",
            "1\n",
            "2\n",
            "3\n",
            "4\n",
            "5\n",
            "the value is 0\n",
            "the value is 1\n",
            "the value is 2\n",
            "the value is 3\n",
            "the value is 4\n",
            "the value is 5\n",
            "the value is 6\n",
            "the value is 7\n",
            "the value is 8\n",
            "the value is 9\n",
            "['data', 'A', 'task', 344, True, 23.44]\n",
            "data\n",
            "A\n",
            "task\n",
            "344\n",
            "True\n",
            "23.44\n",
            "hello everyone \n",
            "welcome welcome\n",
            "hello everyone \n",
            "welcome welcome\n",
            "hello everyone \n",
            "welcome welcome\n"
          ]
        }
      ]
    },
    {
      "cell_type": "code",
      "source": [
        "# conditional statements\n",
        "a=4\n",
        "b=7\n",
        "c=5\n",
        "if(a>b and a>c):\n",
        "  print('a is greatest')\n",
        "elif(b>a and b>c):\n",
        "  print(\"b is greatest\")\n",
        "else:\n",
        "  print('c is greatest')"
      ],
      "metadata": {
        "id": "oJxPnSPtck8_",
        "colab": {
          "base_uri": "https://localhost:8080/"
        },
        "outputId": "68a37fa0-9a67-43c8-de79-b3e93f9a9eba"
      },
      "execution_count": null,
      "outputs": [
        {
          "output_type": "stream",
          "name": "stdout",
          "text": [
            "b is greatest\n"
          ]
        }
      ]
    }
  ]
}